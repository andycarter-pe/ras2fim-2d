{
 "cells": [
  {
   "cell_type": "code",
   "execution_count": 1,
   "id": "65e9bfec",
   "metadata": {},
   "outputs": [
    {
     "name": "stdout",
     "output_type": "stream",
     "text": [
      "str_boundary_to_edit: \"Emitter1\"\n",
      "int_time_rolling_avg: 4\n",
      "int_buffer_time: 5\n",
      "str_simulation_start_date: \"01Jan2000\"\n"
     ]
    }
   ],
   "source": [
    "import configparser\n",
    "\n",
    "# Path to the config.ini file\n",
    "config_file_path = r'C:\\Users\\civil\\ras2fim-2d\\src\\python_code\\config_global.ini'\n",
    "\n",
    "# Create a ConfigParser object\n",
    "config = configparser.ConfigParser()\n",
    "\n",
    "# Read the config.ini file\n",
    "config.read(config_file_path)\n",
    "\n",
    "# Get the variables in the [02_copy_geom] section\n",
    "if '02_copy_geom' in config:\n",
    "    section = config['02_copy_geom']\n",
    "    \n",
    "    # Read variables in the section\n",
    "    str_boundary_to_edit = section.get('str_boundary_to_edit', '')\n",
    "    int_time_rolling_avg = section.getint('int_time_rolling_avg', 0)\n",
    "    int_buffer_time = section.getint('int_buffer_time', 0)\n",
    "    str_simulation_start_date = section.get('str_simulation_start_date', '')\n",
    "\n",
    "    # Print the variables (or use them as needed)\n",
    "    print(f\"str_boundary_to_edit: {str_boundary_to_edit}\")\n",
    "    print(f\"int_time_rolling_avg: {int_time_rolling_avg}\")\n",
    "    print(f\"int_buffer_time: {int_buffer_time}\")\n",
    "    print(f\"str_simulation_start_date: {str_simulation_start_date}\")\n",
    "else:\n",
    "    print(\"[02_copy_geom] section not found in the config file.\")\n"
   ]
  },
  {
   "cell_type": "code",
   "execution_count": null,
   "id": "8cc389d4",
   "metadata": {},
   "outputs": [],
   "source": []
  }
 ],
 "metadata": {
  "kernelspec": {
   "display_name": "Python 3 (ipykernel)",
   "language": "python",
   "name": "python3"
  },
  "language_info": {
   "codemirror_mode": {
    "name": "ipython",
    "version": 3
   },
   "file_extension": ".py",
   "mimetype": "text/x-python",
   "name": "python",
   "nbconvert_exporter": "python",
   "pygments_lexer": "ipython3",
   "version": "3.8.12"
  }
 },
 "nbformat": 4,
 "nbformat_minor": 5
}
