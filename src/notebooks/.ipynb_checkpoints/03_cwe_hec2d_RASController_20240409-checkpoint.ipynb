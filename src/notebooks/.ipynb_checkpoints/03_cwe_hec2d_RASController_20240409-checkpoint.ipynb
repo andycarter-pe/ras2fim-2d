{
 "cells": [
  {
   "cell_type": "code",
   "execution_count": 1,
   "id": "d0e3f1b6",
   "metadata": {},
   "outputs": [],
   "source": [
    "# Run HEC-RAS (current plan) with HECRAS Controller"
   ]
  },
  {
   "cell_type": "code",
   "execution_count": 2,
   "id": "f66cf1aa",
   "metadata": {},
   "outputs": [],
   "source": [
    "#E:\\HECRAS_2D_12070205\\base_model_20240414_copy\\BLE_LBSG_501.prj"
   ]
  },
  {
   "cell_type": "code",
   "execution_count": 3,
   "id": "8331e41c",
   "metadata": {},
   "outputs": [],
   "source": [
    "import win32com.client\n",
    "\n",
    "str_ras_projectpath = r'E:\\HECRAS_2D_12070205\\base_model_20240414_copy\\BLE_LBSG_501.prj'\n",
    "\n",
    "hec = win32com.client.Dispatch(\"RAS65.HECRASController\")\n",
    "\n",
    "hec.ShowRas()\n",
    "#hec.Compute_HideComputationWindow()\n",
    "\n",
    "# Run the active HEC-RAS project \n",
    "hec.Project_Open(str_ras_projectpath)   # opening HEC-RAS\n",
    "\n",
    "dict_hec_info = {\n",
    "    \"HEC-RAS_Version\": hec.HECRASVersion(),\n",
    "    \"Project_Path\": hec.CurrentProjectFile(),\n",
    "    \"Project_Title\": hec.CurrentProjectTitle(),\n",
    "    \"Plan_Path\": hec.CurrentPlanFile(),\n",
    "    \"Geometry_Path\": hec.CurrentGeomFile(),\n",
    "    \"Geometry_HDF_Path\": hec.CurrentGeomHDFFile(),\n",
    "    \"Unsteady_File_Path\": hec.CurrentUnsteadyFile()\n",
    "}\n",
    "\n",
    "# name of 2d areas in active geometry\n",
    "tup_2dareas = hec.Geometry_Get2DFlowAreas()\n",
    "\n",
    "# Extracting the string part, stripping whitespace, and converting it to a list of strings\n",
    "list_of_strings_2darea = [item.strip() for sublist in tup_2dareas if isinstance(sublist, tuple) for item in sublist]\n",
    "\n",
    "# Add the list_of_strings_2darea to the dict_hec_info under a suitable key\n",
    "dict_hec_info[\"2D_Flow_Area_Names\"] = list_of_strings_2darea\n",
    "\n",
    "# to be populated: number and list of messages, blocking mode\n",
    "NMsg, TabMsg, block = None, None, True\n",
    "\n",
    "# computations of the current plan\n",
    "v1, NMsg, TabMsg, v2 = hec.Compute_CurrentPlan(NMsg, TabMsg, block)\n",
    "\n",
    "hec.QuitRas()  # close HEC-RAS\n",
    "\n",
    "# Possible TODO -- Set the blocking to False and \"kill\" the compuration once the files that are needed are created.\n",
    "# hec.Compute_Cancel()"
   ]
  },
  {
   "cell_type": "code",
   "execution_count": 4,
   "id": "028ae1e4",
   "metadata": {},
   "outputs": [
    {
     "data": {
      "text/plain": [
       "{'HEC-RAS_Version': 'HEC-RAS 6.5 February 2024',\n",
       " 'Project_Path': 'E:\\\\HECRAS_2D_12070205\\\\base_model_20240414_copy\\\\BLE_LBSG_501.prj',\n",
       " 'Project_Title': 'LBSG_501',\n",
       " 'Plan_Path': 'E:\\\\HECRAS_2D_12070205\\\\base_model_20240414_copy\\\\BLE_LBSG_501.p02',\n",
       " 'Geometry_Path': 'E:\\\\HECRAS_2D_12070205\\\\base_model_20240414_copy\\\\BLE_LBSG_501.g02',\n",
       " 'Geometry_HDF_Path': 'E:\\\\HECRAS_2D_12070205\\\\base_model_20240414_copy\\\\BLE_LBSG_501.g02.hdf',\n",
       " 'Unsteady_File_Path': 'E:\\\\HECRAS_2D_12070205\\\\base_model_20240414_copy\\\\BLE_LBSG_501.u02',\n",
       " '2D_Flow_Area_Names': ['1207020501']}"
      ]
     },
     "execution_count": 4,
     "metadata": {},
     "output_type": "execute_result"
    }
   ],
   "source": [
    "dict_hec_info"
   ]
  },
  {
   "cell_type": "code",
   "execution_count": null,
   "id": "4968f053",
   "metadata": {},
   "outputs": [],
   "source": [
    "# TODO - Measure the cumpute time and add to dictionary"
   ]
  }
 ],
 "metadata": {
  "kernelspec": {
   "display_name": "Python 3 (ipykernel)",
   "language": "python",
   "name": "python3"
  },
  "language_info": {
   "codemirror_mode": {
    "name": "ipython",
    "version": 3
   },
   "file_extension": ".py",
   "mimetype": "text/x-python",
   "name": "python",
   "nbconvert_exporter": "python",
   "pygments_lexer": "ipython3",
   "version": "3.8.12"
  }
 },
 "nbformat": 4,
 "nbformat_minor": 5
}
