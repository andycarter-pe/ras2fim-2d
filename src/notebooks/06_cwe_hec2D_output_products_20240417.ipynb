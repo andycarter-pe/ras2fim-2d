{
 "cells": [
  {
   "cell_type": "code",
   "execution_count": 1,
   "id": "f1f08ab0",
   "metadata": {},
   "outputs": [],
   "source": [
    "# Last Revised - 2024.04.19\n",
    "# Create the 'delivered' products for the given rasters (depth, wsel, polygon)"
   ]
  },
  {
   "cell_type": "code",
   "execution_count": 2,
   "id": "257a8877",
   "metadata": {},
   "outputs": [],
   "source": [
    "import os\n",
    "import geopandas as gpd\n",
    "import pandas as pd\n",
    "from shapely.geometry import box\n",
    "import rasterio\n",
    "import rioxarray as rxr\n",
    "from rioxarray import merge"
   ]
  },
  {
   "cell_type": "code",
   "execution_count": 3,
   "id": "0cc282ae",
   "metadata": {},
   "outputs": [],
   "source": [
    "# Inputs\n",
    "\n",
    "# From raster_depth_engine ... the 'heavy' float rasters\n",
    "str_depth_raster_path = r'E:\\working\\large_dem\\07_depth_with_nan.tif'\n",
    "str_wsel_raster_path = r'E:\\working\\large_dem\\08_wsel_with_nan.tif'\n",
    "str_polygon_path_gpkg = r'E:\\working\\large_dem\\09_floodplain_ar.gpkg'\n",
    "\n",
    "# from time_gradient script\n",
    "str_flood_limits_gpkg = r'E:\\sample_2d_output\\hydraulic_results_1884413_wb-2410249_29-hr_14100-cfs.gpkg'\n",
    "\n",
    "# Location to output clipped rasters\n",
    "str_output_folder = r'E:\\working\\large_dem'"
   ]
  },
  {
   "cell_type": "code",
   "execution_count": 4,
   "id": "5114b70e",
   "metadata": {},
   "outputs": [],
   "source": [
    "# Load the geopackage to get flodded limits of flowpath\n",
    "\n",
    "gdf_flowpath_limits = gpd.read_file(str_flood_limits_gpkg, layer='01_flowpath_flooded_cells_ar')\n",
    "gdf_floodplain_ar = gpd.read_file(str_polygon_path_gpkg)"
   ]
  },
  {
   "cell_type": "code",
   "execution_count": 5,
   "id": "9587436a",
   "metadata": {},
   "outputs": [],
   "source": [
    "shp_floodplain_ar = gdf_floodplain_ar.iloc[0]['geometry']\n",
    "\n",
    "# Create an empty DataFrame\n",
    "data = []\n",
    "columns = ['run_name', 'flow_cfs', 'flowpath', 'clipped_geometry']\n",
    "gdf_results = pd.DataFrame(data, columns=columns)\n",
    "\n",
    "# Iterate through each row in gdf_flowpath_limits\n",
    "for index, row in gdf_flowpath_limits.iterrows():\n",
    "    shp_flowpath_geom = row['geometry']\n",
    "    \n",
    "    # Clip shp_flowpath_geom to shp_floodplain_ar\n",
    "    shp_clipped_geom = shp_flowpath_geom.intersection(shp_floodplain_ar)\n",
    "    \n",
    "    # Handle multi-part geometries\n",
    "    if shp_clipped_geom.geom_type == 'MultiLineString':\n",
    "        for geom in shp_clipped_geom.geoms:\n",
    "            gdf_results = pd.concat([gdf_results, pd.DataFrame([{\n",
    "                'run_name': row['run_name'],\n",
    "                'flow_cfs': row['flow_cfs'],\n",
    "                'flowpath': row['flowpath'],\n",
    "                'clipped_geometry': geom\n",
    "            }])], ignore_index=True)\n",
    "    else:\n",
    "        gdf_results = pd.concat([gdf_results, pd.DataFrame([{\n",
    "            'run_name': row['run_name'],\n",
    "            'flow_cfs': row['flow_cfs'],\n",
    "            'flowpath': row['flowpath'],\n",
    "            'clipped_geometry': shp_clipped_geom\n",
    "        }])], ignore_index=True)\n",
    "\n",
    "gdf_results['geometry'] = gdf_results['clipped_geometry']\n",
    "\n",
    "# Drop the 'clipped_geometry' column\n",
    "gdf_results = gdf_results.drop(columns=['clipped_geometry'])\n",
    "\n",
    "# Convert DataFrame to GeoDataFrame\n",
    "gdf_results = gpd.GeoDataFrame(gdf_results, geometry='geometry')\n",
    "\n",
    "# Set the coordinate reference system of new geodataframe\n",
    "gdf_results.crs = gdf_floodplain_ar.crs"
   ]
  },
  {
   "cell_type": "code",
   "execution_count": 6,
   "id": "2eb37ab4",
   "metadata": {},
   "outputs": [],
   "source": [
    "gdf_floodplain_by_flowpath = gdf_results\n",
    "\n",
    "# add this layer... to gdf_flowpath_limits"
   ]
  },
  {
   "cell_type": "code",
   "execution_count": 7,
   "id": "36bb2ae9",
   "metadata": {},
   "outputs": [
    {
     "name": "stderr",
     "output_type": "stream",
     "text": [
      "C:\\Users\\civil\\anaconda3\\envs\\tx-bridge\\lib\\site-packages\\rioxarray\\raster_writer.py:115: UserWarning: The nodata value (3.402823466e+38) has been automatically changed to (3.4028234663852886e+38) to match the dtype of the data.\n",
      "  warnings.warn(\n"
     ]
    }
   ],
   "source": [
    "# convert entire depth grid and wsel grid to integers - 3m resolution - EPSG:3857\n",
    "\n",
    "# --- Output raster standards ---\n",
    "str_output_crs = 'EPSG:3857'\n",
    "flt_desired_res = 3.0 #3 meter cell resolution\n",
    "# ------\n",
    "\n",
    "# convert the depth DEM to InFRM compliant rasters\n",
    "# Create a raster for the entire run's depth\n",
    "with rxr.open_rasterio(str_depth_raster_path) as xds_raw_dem:\n",
    "     # reproject the DEM to the requested CRS\n",
    "    xds_reproject = xds_raw_dem.rio.reproject(str_output_crs)\n",
    "    \n",
    "    # change the depth values to integers representing 1/10th interval steps\n",
    "    # Example - a cell value of 25 = a depth of 2.5 units (feet or meters)\n",
    "    xds_reproject_scaled = ((xds_reproject * 10) + 0.5) // 1\n",
    "    \n",
    "    # set the n/a cells to a value of 65535\n",
    "    xds_reproject_scaled = xds_reproject_scaled.fillna(65535)\n",
    "    \n",
    "    # set the nodata value to 65535 - InFRM compliant\n",
    "    xds_reproject_scaled = xds_reproject_scaled.rio.set_nodata(65535)\n",
    "    \n",
    "    # using the merge on a single raster to allow for user supplied\n",
    "    # raster resolution of the output\n",
    "    xds_depth_raster = rxr.merge.merge_arrays(xds_reproject_scaled,\n",
    "                                                     res=(flt_desired_res),\n",
    "                                                     nodata=(65535))"
   ]
  },
  {
   "cell_type": "code",
   "execution_count": 8,
   "id": "377fb51d",
   "metadata": {},
   "outputs": [
    {
     "name": "stderr",
     "output_type": "stream",
     "text": [
      "C:\\Users\\civil\\anaconda3\\envs\\tx-bridge\\lib\\site-packages\\rioxarray\\raster_writer.py:115: UserWarning: The nodata value (3.402823466e+38) has been automatically changed to (3.4028234663852886e+38) to match the dtype of the data.\n",
      "  warnings.warn(\n"
     ]
    }
   ],
   "source": [
    "# Create a raster for the entire run's water surface elevation raster\n",
    "with rxr.open_rasterio(str_wsel_raster_path) as xds_raw_dem:\n",
    "     # reproject the DEM to the requested CRS\n",
    "    xds_reproject = xds_raw_dem.rio.reproject(str_output_crs)\n",
    "    \n",
    "    # change the wsel values to integers representing 1/10th interval steps\n",
    "    # Example - a cell value of 25 = a depth of 2.5 units (feet or meters)\n",
    "    xds_reproject_scaled = ((xds_reproject * 10) + 0.5) // 1\n",
    "    \n",
    "    # set the n/a cells to a value of 65535\n",
    "    xds_reproject_scaled = xds_reproject_scaled.fillna(65535)\n",
    "    \n",
    "    # set the nodata value to 65535 - InFRM compliant\n",
    "    xds_reproject_scaled = xds_reproject_scaled.rio.set_nodata(65535)\n",
    "    \n",
    "    # using the merge on a single raster to allow for user supplied\n",
    "    # raster resolution of the output\n",
    "    xds_wsel_raster = rxr.merge.merge_arrays(xds_reproject_scaled,\n",
    "                                                     res=(flt_desired_res),\n",
    "                                                     nodata=(65535))"
   ]
  },
  {
   "cell_type": "code",
   "execution_count": 9,
   "id": "2add7bef",
   "metadata": {},
   "outputs": [],
   "source": [
    "# Clip the depth and wsel raster to to the polygons in gdf_flowpath_limits\n",
    "\n",
    "# Reproject gdf_results to str_output_crs\n",
    "gdf_flowpath_limits_3857 = gdf_flowpath_limits.to_crs(str_output_crs)\n",
    "\n",
    "list_depth_rasters = []\n",
    "list_wsel_rasters = []\n",
    "\n",
    "for index, row in gdf_flowpath_limits_3857.iterrows():\n",
    "    \n",
    "    geom = row['geometry']\n",
    "    \n",
    "    # ----- create clipped depth rasters-----\n",
    "    xds_clipped_depth = xds_depth_raster.rio.clip([geom])\n",
    "    str_depth_name = 'depth_' + row['flowpath'] + '_' + str(row['flow_cfs']) + '.tif'\n",
    "    str_depth_filepath = os.path.join(str_output_folder, str_depth_name)\n",
    "    \n",
    "    # compress and write out depth raster as unsigned 16 bit integer\n",
    "    xds_clipped_depth.rio.to_raster(str_depth_filepath,compress='lzw',dtype=\"uint16\")\n",
    "    \n",
    "    list_depth_rasters.append(str_depth_filepath)\n",
    "    \n",
    "    # ----- create clpped wsel rasters -----\n",
    "    xds_clipped_wsel = xds_wsel_raster.rio.clip([geom])\n",
    "    str_wsel_name = 'wsel_' + row['flowpath'] + '_' + str(row['flow_cfs']) + '.tif'\n",
    "    str_wsel_filepath = os.path.join(str_output_folder, str_wsel_name)\n",
    "    \n",
    "    # compress and write out wsel raster as signed 32 bit integer\n",
    "    xds_clipped_wsel.rio.to_raster(str_wsel_filepath,compress='lzw',dtype=\"int32\")\n",
    "    \n",
    "    list_wsel_rasters.append(str_wsel_filepath)"
   ]
  },
  {
   "cell_type": "code",
   "execution_count": 10,
   "id": "c8198caa",
   "metadata": {},
   "outputs": [],
   "source": [
    "#str_flood_limits_gpkg\n",
    "# Contains:  \n",
    "#   00_hec_info (information about the simulation run)\n",
    "#   01_flowpath_flooded_cells (polygon of the merged wet cells around a flowpath, with buffer)\n",
    "#   02_cells_wsel (wet cells per this run, including hours to stability)\n",
    "\n",
    "gdf_results['depth_raster_path'] = list_depth_rasters\n",
    "gdf_results['wsel_raster_path'] = list_wsel_rasters\n",
    "\n",
    "# Append the floodplain limits in 'gdf_results' to existing geopackage\n",
    "gdf_results.to_file(str_flood_limits_gpkg, layer='04_floodplain_limits', driver='GPKG', append=True)"
   ]
  },
  {
   "cell_type": "code",
   "execution_count": null,
   "id": "f13a115c",
   "metadata": {},
   "outputs": [],
   "source": []
  }
 ],
 "metadata": {
  "kernelspec": {
   "display_name": "Python 3 (ipykernel)",
   "language": "python",
   "name": "python3"
  },
  "language_info": {
   "codemirror_mode": {
    "name": "ipython",
    "version": 3
   },
   "file_extension": ".py",
   "mimetype": "text/x-python",
   "name": "python",
   "nbconvert_exporter": "python",
   "pygments_lexer": "ipython3",
   "version": "3.8.12"
  }
 },
 "nbformat": 4,
 "nbformat_minor": 5
}
