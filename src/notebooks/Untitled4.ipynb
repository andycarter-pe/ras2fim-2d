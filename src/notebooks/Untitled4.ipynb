{
 "cells": [
  {
   "cell_type": "code",
   "execution_count": 35,
   "id": "188702b1",
   "metadata": {},
   "outputs": [
    {
     "name": "stdout",
     "output_type": "stream",
     "text": [
      "wb-2410249-50000\n"
     ]
    }
   ],
   "source": [
    "str_short_plan = \"wb-2410249-50000\"\n",
    "truncated_str_short_plan = str_short_plan[:16]\n",
    "print(truncated_str_short_plan)"
   ]
  },
  {
   "cell_type": "code",
   "execution_count": 36,
   "id": "8fb57691",
   "metadata": {},
   "outputs": [],
   "source": [
    "flt_flow = 50000\n",
    "\n",
    "# ---------------\n",
    "def fn_format_flow_as_string(flt_flow):\n",
    "    # format a flow value to no more than 5 characters\n",
    "    # if bigger than 100000 ... returns 1.0e5\n",
    "    \n",
    "    # works up to 990 million cfs\n",
    "    if flt_flow >= 100000:\n",
    "        formatted_flow = \"{:.1e}\".format(flt_flow)\n",
    "        parts = formatted_flow.split('e')\n",
    "        formatted_flow = \"{}e{}\".format(parts[0], int(parts[1]))  # Reconstructing the notation\n",
    "        if len(formatted_flow) > 8:  # Ensuring the total length is 8 characters\n",
    "            formatted_flow = \"{:.1e}\".format(flt_flow).replace(\"e\", \"e+\")\n",
    "    else:\n",
    "        formatted_flow = str(flt_flow)\n",
    "    \n",
    "    # returns a string\n",
    "    return(formatted_flow)\n",
    "# ---------------"
   ]
  },
  {
   "cell_type": "code",
   "execution_count": 34,
   "id": "37a90eb5",
   "metadata": {},
   "outputs": [
    {
     "name": "stdout",
     "output_type": "stream",
     "text": [
      "1.0e6\n"
     ]
    }
   ],
   "source": [
    "flt_flow = 1000000\n",
    "print(fn_format_flow_as_string(flt_flow))"
   ]
  },
  {
   "cell_type": "code",
   "execution_count": 39,
   "id": "292b6503",
   "metadata": {},
   "outputs": [
    {
     "data": {
      "text/plain": [
       "21"
      ]
     },
     "execution_count": 39,
     "metadata": {},
     "output_type": "execute_result"
    }
   ],
   "source": [
    "int(21.98)"
   ]
  },
  {
   "cell_type": "code",
   "execution_count": null,
   "id": "54018ac2",
   "metadata": {},
   "outputs": [],
   "source": []
  }
 ],
 "metadata": {
  "kernelspec": {
   "display_name": "Python 3 (ipykernel)",
   "language": "python",
   "name": "python3"
  },
  "language_info": {
   "codemirror_mode": {
    "name": "ipython",
    "version": 3
   },
   "file_extension": ".py",
   "mimetype": "text/x-python",
   "name": "python",
   "nbconvert_exporter": "python",
   "pygments_lexer": "ipython3",
   "version": "3.8.12"
  }
 },
 "nbformat": 4,
 "nbformat_minor": 5
}
