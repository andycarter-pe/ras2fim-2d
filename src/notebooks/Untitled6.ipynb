{
 "cells": [
  {
   "cell_type": "code",
   "execution_count": 1,
   "id": "eadc9417",
   "metadata": {},
   "outputs": [],
   "source": [
    "import win32com.client\n",
    "import os\n",
    "import time"
   ]
  },
  {
   "cell_type": "code",
   "execution_count": 2,
   "id": "b89479f4",
   "metadata": {},
   "outputs": [],
   "source": [
    "# -------\n",
    "def fn_filepath_expected(str_input_filepath, \n",
    "                         str_input_extension, \n",
    "                         str_output_extension):\n",
    "\n",
    "    # From a given input path of a HEC-RAS file, determine if the run has created\n",
    "    # the required Linux run inputs\n",
    "    \n",
    "    # Split the file path into directory, base filename, and extension\n",
    "    directory, filename = os.path.split(str_input_filepath)\n",
    "    base_filename, extension = os.path.splitext(filename)\n",
    "\n",
    "    # Example: Replace 'gXX' with 'bXX' in the extension\n",
    "    mod_extension = extension.replace(str_input_extension, str_output_extension)\n",
    "\n",
    "    # Construct the file path\n",
    "    str_ammended_filepath = os.path.join(directory, base_filename + mod_extension)\n",
    "    \n",
    "    return(str_ammended_filepath)\n",
    "# -------"
   ]
  },
  {
   "cell_type": "code",
   "execution_count": 3,
   "id": "e7bd8b7f",
   "metadata": {},
   "outputs": [],
   "source": [
    "# --- Input ---\n",
    "str_ras_projectpath = r'E:\\HECRAS_2D_12070205\\base_model_20240414_copy\\BLE_LBSG_501.prj'\n",
    "\n",
    "# to set the version of the HEC-RAS controller\n",
    "str_hecras_controller = 'RAS610.HECRASController'\n",
    "# --- Input ---\n",
    "\n",
    "hec = win32com.client.Dispatch(str_hecras_controller)\n",
    "\n",
    "hec.ShowRas()\n",
    "#hec.Compute_HideComputationWindow()\n",
    "\n",
    "# Run the active HEC-RAS project \n",
    "hec.Project_Open(str_ras_projectpath)   # opening HEC-RAS\n",
    "\n",
    "# ---------\n",
    "# dictionary of this current HEC-RAS run\n",
    "dict_hec_info = {\n",
    "    \"HEC-RAS_Version\": hec.HECRASVersion(),\n",
    "    \"Project_Path\": hec.CurrentProjectFile(),\n",
    "    \"Project_Title\": hec.CurrentProjectTitle(),\n",
    "    \"Plan_Path\": hec.CurrentPlanFile(),\n",
    "    \"Geometry_Path\": hec.CurrentGeomFile(),\n",
    "    \"Geometry_HDF_Path\": hec.CurrentGeomHDFFile(),\n",
    "    \"Unsteady_File_Path\": hec.CurrentUnsteadyFile()\n",
    "}\n",
    "\n",
    "# name of 2d areas in active geometry\n",
    "tup_2dareas = hec.Geometry_Get2DFlowAreas()\n",
    "\n",
    "# Extracting the string part, stripping whitespace, and converting it to a list of strings\n",
    "list_of_strings_2darea = [item.strip() for sublist in tup_2dareas if isinstance(sublist, tuple) for item in sublist]\n",
    "\n",
    "# Add the list_of_strings_2darea to the dict_hec_info under a suitable key\n",
    "dict_hec_info[\"2D_Flow_Area_Names\"] = list_of_strings_2darea\n",
    "# ---------"
   ]
  },
  {
   "cell_type": "code",
   "execution_count": 4,
   "id": "dcbdeb6d",
   "metadata": {},
   "outputs": [],
   "source": [
    "#dict_hec_info"
   ]
  },
  {
   "cell_type": "code",
   "execution_count": 5,
   "id": "290f90a8",
   "metadata": {},
   "outputs": [],
   "source": [
    "# HEC-RAS should create a matching cXX for the geometry file gXX\n",
    "str_expected_c_file = fn_filepath_expected(hec.CurrentGeomFile(), 'g', 'c')\n",
    "\n",
    "# HEC-RAS should create a matching bXX for the geometry file pXX\n",
    "str_expected_b_file = fn_filepath_expected(hec.CurrentPlanFile(), 'p', 'b')\n",
    "\n",
    "# HDF Version of the plan\n",
    "str_plan_hdf_filepath = hec.CurrentPlanFile() + \".tmp.hdf\"\n",
    "\n",
    "# create a list of the expected files\n",
    "list_expected_files = [str_expected_c_file, str_expected_b_file, str_plan_hdf_filepath]"
   ]
  },
  {
   "cell_type": "code",
   "execution_count": 12,
   "id": "e83df17c",
   "metadata": {},
   "outputs": [],
   "source": [
    "#list_files_exists"
   ]
  },
  {
   "cell_type": "code",
   "execution_count": 13,
   "id": "a14d2dfe",
   "metadata": {},
   "outputs": [],
   "source": [
    "#list_expected_files"
   ]
  },
  {
   "cell_type": "code",
   "execution_count": 9,
   "id": "f0ce6fbf",
   "metadata": {},
   "outputs": [],
   "source": [
    "# Blocking mode set to false, so we can check file creation while running\n",
    "is_blocking_mode = False\n",
    "\n",
    "# option to kill HEC-RAS\n",
    "b_kill_hecras = False\n",
    "\n",
    "# to be populated: number and list of messages, blocking mode\n",
    "NMsg, TabMsg, block = None, None, is_blocking_mode\n",
    "\n",
    "# computations of the current plan\n",
    "v1, NMsg, TabMsg, v2 = hec.Compute_CurrentPlan(NMsg, TabMsg, is_blocking_mode)\n",
    "\n",
    "\n",
    "start_time = time.time()\n",
    "while not all(os.path.exists(file_path) for file_path in list_expected_files) or b_kill_hecras:\n",
    "    list_files_exists = [os.path.exists(file_path) for file_path in list_expected_files]\n",
    "\n",
    "    if all(list_files_exists):\n",
    "        # All the files exist\n",
    "        print(f'Time taken: {time.time() - start_time:.2f} seconds')\n",
    "        b_kill_hecras = True\n",
    "        hec.Compute_Cancel()\n",
    "        #hec.QuitRas()\n",
    "        break  # Exit the loop once all files exist\n",
    "\n",
    "print('Files Created')\n",
    "print(f'Time taken: {time.time() - start_time:.2f} seconds')\n",
    "\n",
    "#hec.QuitRas()  # close HEC-RAS"
   ]
  },
  {
   "cell_type": "code",
   "execution_count": 10,
   "id": "ede8264d",
   "metadata": {},
   "outputs": [],
   "source": [
    "hec.QuitRas()"
   ]
  },
  {
   "cell_type": "code",
   "execution_count": null,
   "id": "3a3ced0f",
   "metadata": {},
   "outputs": [],
   "source": []
  }
 ],
 "metadata": {
  "kernelspec": {
   "display_name": "Python 3 (ipykernel)",
   "language": "python",
   "name": "python3"
  },
  "language_info": {
   "codemirror_mode": {
    "name": "ipython",
    "version": 3
   },
   "file_extension": ".py",
   "mimetype": "text/x-python",
   "name": "python",
   "nbconvert_exporter": "python",
   "pygments_lexer": "ipython3",
   "version": "3.8.12"
  }
 },
 "nbformat": 4,
 "nbformat_minor": 5
}
